{
 "cells": [
  {
   "cell_type": "code",
   "execution_count": 13,
   "metadata": {},
   "outputs": [],
   "source": [
    "from ultralytics import YOLO\n",
    "import numpy as np\n",
    "import cv2"
   ]
  },
  {
   "cell_type": "code",
   "execution_count": 14,
   "metadata": {},
   "outputs": [
    {
     "name": "stdout",
     "output_type": "stream",
     "text": [
      "\n",
      "image 1/1 c:\\Users\\matti\\OneDrive\\Documents\\Semester2\\IndustryProject\\Industry-Project-Claerhout\\roof-detection\\test-images\\test.jpg: 640x640 1 flat, 1101.0ms\n",
      "Speed: 2.0ms preprocess, 1101.0ms inference, 5.4ms postprocess per image at shape (1, 3, 640, 640)\n"
     ]
    }
   ],
   "source": [
    "# prediction of the model\n",
    "model = YOLO(\"./model/best.pt\")\n",
    "results = model(\"./test-images/test.jpg\", classes=[0], retina_masks=True)"
   ]
  },
  {
   "cell_type": "code",
   "execution_count": 15,
   "metadata": {},
   "outputs": [],
   "source": [
    "masks_cpu = results[0].masks.cpu()\n",
    "masks_numpy = masks_cpu.data.numpy()"
   ]
  },
  {
   "cell_type": "code",
   "execution_count": 16,
   "metadata": {},
   "outputs": [
    {
     "name": "stdout",
     "output_type": "stream",
     "text": [
      "Total perimeter of segmented roofs (in pixels): 1036.9259687662125\n",
      "Total perimeter of segmented roofs (in meters): 104.38852034559186\n"
     ]
    }
   ],
   "source": [
    "perimeters = []\n",
    "\n",
    "for mask in masks_numpy:\n",
    "    mask_uint8 = mask.astype(np.uint8)\n",
    "\n",
    "    contours, _ = cv2.findContours(mask_uint8, cv2.RETR_EXTERNAL, cv2.CHAIN_APPROX_SIMPLE)\n",
    "\n",
    "    for contour in contours:\n",
    "        perimeter = cv2.arcLength(contour, True)\n",
    "        perimeters.append(perimeter)\n",
    "\n",
    "total_perimeter = sum(perimeters)\n",
    "print(f\"Total perimeter of segmented roofs (in pixels): {total_perimeter}\")\n",
    "\n",
    "pixels_per_meter = 298 / 30\n",
    "total_perimeter_meters = total_perimeter / pixels_per_meter\n",
    "print(f\"Total perimeter of segmented roofs (in meters): {total_perimeter_meters}\")\n"
   ]
  },
  {
   "cell_type": "code",
   "execution_count": null,
   "metadata": {},
   "outputs": [],
   "source": []
  },
  {
   "cell_type": "code",
   "execution_count": null,
   "metadata": {},
   "outputs": [],
   "source": []
  },
  {
   "cell_type": "code",
   "execution_count": null,
   "metadata": {},
   "outputs": [],
   "source": []
  }
 ],
 "metadata": {
  "kernelspec": {
   "display_name": "Python 3",
   "language": "python",
   "name": "python3"
  },
  "language_info": {
   "codemirror_mode": {
    "name": "ipython",
    "version": 3
   },
   "file_extension": ".py",
   "mimetype": "text/x-python",
   "name": "python",
   "nbconvert_exporter": "python",
   "pygments_lexer": "ipython3",
   "version": "3.12.3"
  }
 },
 "nbformat": 4,
 "nbformat_minor": 2
}
