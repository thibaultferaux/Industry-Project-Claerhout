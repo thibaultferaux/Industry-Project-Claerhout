{
 "cells": [
  {
   "cell_type": "code",
   "execution_count": 1,
   "metadata": {},
   "outputs": [],
   "source": [
    "from ultralytics import YOLO"
   ]
  },
  {
   "cell_type": "code",
   "execution_count": 11,
   "metadata": {},
   "outputs": [],
   "source": [
    "# Images to predict\n",
    "images = [\"./test-images/flat-roof-1.jpg\", \"./test-images/flat-roof-2.jpg\", \"./test-images/flat-roof-3.jpg\", \"./test-images/sloped-roof.jpg\", './test-images/Brussel-4-crop.jpg', './test-images/Brussel-7.jpg']"
   ]
  },
  {
   "cell_type": "code",
   "execution_count": 12,
   "metadata": {},
   "outputs": [],
   "source": [
    "# Load the model\n",
    "model = YOLO(\"./model/best.pt\")"
   ]
  },
  {
   "cell_type": "code",
   "execution_count": 13,
   "metadata": {},
   "outputs": [
    {
     "name": "stdout",
     "output_type": "stream",
     "text": [
      "\n",
      "0: 640x640 3 flat_roofss, 57.0ms\n",
      "1: 640x640 2 flat_roofss, 57.0ms\n",
      "2: 640x640 1 flat_roofs, 57.0ms\n",
      "3: 640x640 (no detections), 57.0ms\n",
      "4: 640x640 6 flat_roofss, 57.0ms\n",
      "5: 640x640 1 flat_roofs, 57.0ms\n",
      "Speed: 4.2ms preprocess, 57.0ms inference, 3.3ms postprocess per image at shape (1, 3, 640, 640)\n"
     ]
    }
   ],
   "source": [
    "# Predict the model\n",
    "results = model(images)"
   ]
  },
  {
   "cell_type": "code",
   "execution_count": 10,
   "metadata": {},
   "outputs": [],
   "source": [
    "# Process results list\n",
    "for result in results:\n",
    "    masks = result.masks\n",
    "    probs = result.probs\n",
    "    result.show()\n",
    "    result.save(filename='./test-images/results/result.jpg')"
   ]
  },
  {
   "cell_type": "code",
   "execution_count": null,
   "metadata": {},
   "outputs": [],
   "source": []
  }
 ],
 "metadata": {
  "kernelspec": {
   "display_name": "gpu_env",
   "language": "python",
   "name": "python3"
  },
  "language_info": {
   "codemirror_mode": {
    "name": "ipython",
    "version": 3
   },
   "file_extension": ".py",
   "mimetype": "text/x-python",
   "name": "python",
   "nbconvert_exporter": "python",
   "pygments_lexer": "ipython3",
   "version": "3.11.9"
  }
 },
 "nbformat": 4,
 "nbformat_minor": 2
}
