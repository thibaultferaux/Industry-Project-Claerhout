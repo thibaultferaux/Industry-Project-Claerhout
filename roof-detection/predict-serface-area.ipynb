{
 "cells": [
  {
   "cell_type": "code",
   "execution_count": 33,
   "metadata": {},
   "outputs": [],
   "source": [
    "from ultralytics import YOLO\n",
    "import numpy as np"
   ]
  },
  {
   "cell_type": "code",
   "execution_count": 43,
   "metadata": {},
   "outputs": [
    {
     "name": "stdout",
     "output_type": "stream",
     "text": [
      "\n",
      "image 1/1 c:\\Users\\thiba\\Documents\\School\\2 MCT\\2_IndustryProject\\Industry-Project-Claerhout\\roof-detection\\test-images\\Brussel-4-crop.jpg: 544x640 21 flats, 104.0ms\n",
      "Speed: 4.4ms preprocess, 104.0ms inference, 6.9ms postprocess per image at shape (1, 3, 544, 640)\n"
     ]
    }
   ],
   "source": [
    "# prediction of the model\n",
    "model = YOLO(\"./model/best.pt\")\n",
    "results = model(\"./test-images/Brussel-4-crop.jpg\", classes=[0], retina_masks=True)"
   ]
  },
  {
   "cell_type": "code",
   "execution_count": 45,
   "metadata": {},
   "outputs": [],
   "source": [
    "masks_cpu = results[0].masks.cpu()\n",
    "masks_numpy = masks_cpu.data.numpy()"
   ]
  },
  {
   "cell_type": "code",
   "execution_count": 46,
   "metadata": {},
   "outputs": [],
   "source": [
    "flat_areas =[np.sum(mask) for mask in masks_numpy]"
   ]
  },
  {
   "cell_type": "code",
   "execution_count": 58,
   "metadata": {},
   "outputs": [
    {
     "name": "stdout",
     "output_type": "stream",
     "text": [
      "Surface areas for 'flat' class (in pixels): 783216.0\n"
     ]
    }
   ],
   "source": [
    "flat_surface_areas = [area * 1.0 for area in flat_areas]\n",
    "total_surface_area = sum(flat_surface_areas)\n",
    "\n",
    "print(f\"Surface areas for 'flat' class (in pixels): {total_surface_area}\")"
   ]
  },
  {
   "cell_type": "code",
   "execution_count": null,
   "metadata": {},
   "outputs": [],
   "source": []
  }
 ],
 "metadata": {
  "kernelspec": {
   "display_name": "gpu_env",
   "language": "python",
   "name": "python3"
  },
  "language_info": {
   "codemirror_mode": {
    "name": "ipython",
    "version": 3
   },
   "file_extension": ".py",
   "mimetype": "text/x-python",
   "name": "python",
   "nbconvert_exporter": "python",
   "pygments_lexer": "ipython3",
   "version": "3.11.9"
  }
 },
 "nbformat": 4,
 "nbformat_minor": 2
}
