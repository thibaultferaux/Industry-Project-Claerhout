{
 "cells": [
  {
   "cell_type": "code",
   "execution_count": 1,
   "metadata": {},
   "outputs": [],
   "source": [
    "from ultralytics import YOLO\n",
    "import torch\n",
    "import numpy as np"
   ]
  },
  {
   "cell_type": "code",
   "execution_count": 2,
   "metadata": {},
   "outputs": [],
   "source": [
    "# Load the model\n",
    "model = YOLO(\"./model/best.pt\")"
   ]
  },
  {
   "cell_type": "code",
   "execution_count": 3,
   "metadata": {},
   "outputs": [],
   "source": [
    "# Images to predict\n",
    "images = ['./test-images/Brussel-4-crop.jpg']"
   ]
  },
  {
   "cell_type": "code",
   "execution_count": 4,
   "metadata": {},
   "outputs": [
    {
     "name": "stdout",
     "output_type": "stream",
     "text": [
      "\n",
      "0: 544x640 21 flats, 25 slopeds, 1113.5ms\n",
      "Speed: 12.7ms preprocess, 1113.5ms inference, 1286.1ms postprocess per image at shape (1, 3, 544, 640)\n"
     ]
    }
   ],
   "source": [
    "# Predict the model\n",
    "results = model(images)"
   ]
  },
  {
   "cell_type": "code",
   "execution_count": 5,
   "metadata": {},
   "outputs": [
    {
     "name": "stdout",
     "output_type": "stream",
     "text": [
      "Total mask area of flat roofs: 195565.0\n",
      "Total mask area of steep roofs: 11691.0\n",
      "Ratio of mask area (flat to steep roofs): 16.727824822513043\n"
     ]
    }
   ],
   "source": [
    "# Initialize area sums\n",
    "flat_area = 0  \n",
    "sloped_area = 0  \n",
    "\n",
    "# Process results from the model\n",
    "for result in results:\n",
    "    boxes = result.boxes  \n",
    "    masks = result.masks  \n",
    "    label_names = result.names  \n",
    "\n",
    "    # Iterate through detected boxes and sum mask areas\n",
    "    for idx, box in enumerate(boxes):\n",
    "        box_data = box.data.numpy()  \n",
    "        label_idx = int(box_data[0, 5])  # Access the class label index\n",
    "        label = label_names[label_idx]\n",
    "        \n",
    "        mask = masks[idx]  \n",
    "        \n",
    "        # Access the data attribute of the mask and ensure it is converted to numpy array\n",
    "        mask_data = mask.data \n",
    "        if isinstance(mask_data, torch.Tensor):\n",
    "            mask_data = mask_data.squeeze(0).numpy()  \n",
    "\n",
    "        # Calculate area of the mask: sum of all 1's in the mask array\n",
    "        mask_area = np.sum(mask_data)\n",
    "\n",
    "        # Increment area sum based on roof type\n",
    "        if label == 'flat':\n",
    "            flat_area += mask_area\n",
    "        elif label == 'sloped':\n",
    "            sloped_area += mask_area\n",
    "\n",
    "# Calculate the ratio of areas\n",
    "if sloped_area > 0:  \n",
    "    ratio_area_flat_to_steep = flat_area / sloped_area\n",
    "else:\n",
    "    ratio_area_flat_to_steep = None\n",
    "\n",
    "print(f\"Total mask area of flat roofs: {flat_area}\")\n",
    "print(f\"Total mask area of steep roofs: {sloped_area}\")\n",
    "print(f\"Ratio of mask area (flat to steep roofs): {ratio_area_flat_to_steep}\")"
   ]
  },
  {
   "cell_type": "code",
   "execution_count": 7,
   "metadata": {},
   "outputs": [
    {
     "name": "stdout",
     "output_type": "stream",
     "text": [
      "\n",
      "0: 544x640 21 flats, 25 slopeds, 1033.2ms\n",
      "Speed: 8.8ms preprocess, 1033.2ms inference, 39.1ms postprocess per image at shape (1, 3, 544, 640)\n",
      "Number of flat roofs: 21\n",
      "Number of sloped roofs: 25\n",
      "Ratio of sloped roofs to flat roofs: 1.1904761904761905\n"
     ]
    }
   ],
   "source": [
    "\n",
    "# Images to predict\n",
    "images = ['./test-images/Brussel-4-crop.jpg']\n",
    "\n",
    "# Predict with the model\n",
    "results = model(images)\n",
    "\n",
    "# Access the first Results object from the list\n",
    "first_result = results[0]\n",
    "\n",
    "# Retrieve label names and boxes from the first result\n",
    "label_names = first_result.names\n",
    "boxes = first_result.boxes\n",
    "\n",
    "# Initialize counts\n",
    "flat_count = 0\n",
    "sloped_count = 0\n",
    "\n",
    "# Iterate through detected boxes and count\n",
    "for box in boxes:\n",
    "    # Access the data tensor for this box\n",
    "    box_data = box.data.numpy()  # Ensure conversion to numpy array if not already\n",
    "    label_idx = int(box_data[0, 5])  # Access the class label index which is at the 6th position in the data array\n",
    "    label = label_names[label_idx]\n",
    "    if label == 'flat':\n",
    "        flat_count += 1\n",
    "    elif label == 'sloped':\n",
    "        sloped_count += 1\n",
    "\n",
    "# Calculate the ratio of sloped to flat roofs\n",
    "if flat_count > 0:  # Ensure there are flat roofs to avoid division by zero\n",
    "    ratio_sloped_to_flat = sloped_count / flat_count\n",
    "else:\n",
    "    ratio_sloped_to_flat = None  # Handle case with no flat roofs\n",
    "\n",
    "print(f\"Number of flat roofs: {flat_count}\")\n",
    "print(f\"Number of sloped roofs: {sloped_count}\")\n",
    "print(f\"Ratio of sloped roofs to flat roofs: {ratio_sloped_to_flat}\")\n"
   ]
  }
 ],
 "metadata": {
  "kernelspec": {
   "display_name": "Python 3",
   "language": "python",
   "name": "python3"
  },
  "language_info": {
   "codemirror_mode": {
    "name": "ipython",
    "version": 3
   },
   "file_extension": ".py",
   "mimetype": "text/x-python",
   "name": "python",
   "nbconvert_exporter": "python",
   "pygments_lexer": "ipython3",
   "version": "3.12.2"
  }
 },
 "nbformat": 4,
 "nbformat_minor": 2
}
